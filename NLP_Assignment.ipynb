{
  "nbformat": 4,
  "nbformat_minor": 0,
  "metadata": {
    "colab": {
      "name": "NLP Assignment.ipynb",
      "provenance": [],
      "collapsed_sections": [],
      "authorship_tag": "ABX9TyMtERiftCgrNuKnNWayL0Q6",
      "include_colab_link": true
    },
    "kernelspec": {
      "name": "python3",
      "display_name": "Python 3"
    }
  },
  "cells": [
    {
      "cell_type": "markdown",
      "metadata": {
        "id": "view-in-github",
        "colab_type": "text"
      },
      "source": [
        "<a href=\"https://colab.research.google.com/github/Rahul4269/Assignments/blob/main/NLP_Assignment.ipynb\" target=\"_parent\"><img src=\"https://colab.research.google.com/assets/colab-badge.svg\" alt=\"Open In Colab\"/></a>"
      ]
    },
    {
      "cell_type": "markdown",
      "metadata": {
        "id": "whJS1GemR-yd"
      },
      "source": [
        "**In this assignment students have to find the frequency of words in a webpage. User can use urllib and BeautifulSoup to extract text from webpage.**"
      ]
    },
    {
      "cell_type": "code",
      "metadata": {
        "id": "4QFee5zXR3zg"
      },
      "source": [
        "from bs4 import BeautifulSoup\n",
        "import urllib\n",
        "import nltk\n",
        "import requests\n",
        "import re"
      ],
      "execution_count": null,
      "outputs": []
    },
    {
      "cell_type": "code",
      "metadata": {
        "id": "9Fd8VD3xSGrA"
      },
      "source": [
        "response = urllib.request.urlopen('https://en.wikipedia.org/wiki/Avengers:_Endgame')\n",
        "html = response.read()\n",
        "raw = BeautifulSoup(html,\"html5lib\").get_text()"
      ],
      "execution_count": null,
      "outputs": []
    },
    {
      "cell_type": "code",
      "metadata": {
        "colab": {
          "base_uri": "https://localhost:8080/"
        },
        "id": "XFhCIVFnSbl4",
        "outputId": "964e4c07-77d5-4710-f8bf-7e269fe00d5c"
      },
      "source": [
        "nltk.download('punkt')\n",
        "words = nltk.word_tokenize(raw)"
      ],
      "execution_count": null,
      "outputs": [
        {
          "output_type": "stream",
          "text": [
            "[nltk_data] Downloading package punkt to /root/nltk_data...\n",
            "[nltk_data]   Unzipping tokenizers/punkt.zip.\n"
          ],
          "name": "stdout"
        }
      ]
    },
    {
      "cell_type": "code",
      "metadata": {
        "colab": {
          "base_uri": "https://localhost:8080/"
        },
        "id": "KTYOHCjCSi3-",
        "outputId": "edba988f-4f89-48ae-c245-32731aacdcd2"
      },
      "source": [
        "words = [word for word in words if len(word) > 1]\n",
        "\n",
        "# Removing any numbers present in our text\n",
        "\n",
        "words = [word for word in words if not word.isnumeric()]\n",
        "\n",
        "# Lowercase all words (default_stopwords are lowercase too)\n",
        "\n",
        "words = [word.lower() for word in words]\n",
        "\n",
        "# Calculating frequency distribution\n",
        "\n",
        "fdist = nltk.FreqDist(words)\n",
        "\n",
        "# Printing the top 30 words with their frequency\n",
        "\n",
        "for word, frequency in fdist.most_common(30):\n",
        "    print(u'{}; {}'.format(word, frequency))"
      ],
      "execution_count": null,
      "outputs": [
        {
          "output_type": "stream",
          "text": [
            "the; 1009\n",
            "''; 935\n",
            "``; 394\n",
            "on; 313\n",
            "and; 293\n",
            "in; 291\n",
            "from; 281\n",
            "of; 278\n",
            "to; 232\n",
            "original; 220\n",
            "april; 219\n",
            "retrieved; 219\n",
            "archived; 218\n",
            "avengers; 216\n",
            "endgame; 188\n",
            "'s; 179\n",
            "film; 161\n",
            "as; 139\n",
            "may; 136\n",
            "for; 113\n",
            "with; 101\n",
            "marvel; 97\n",
            "'avengers; 91\n",
            "was; 86\n",
            "war; 84\n",
            "that; 83\n",
            "million; 79\n",
            "it; 79\n",
            "infinity; 79\n",
            "films; 71\n"
          ],
          "name": "stdout"
        }
      ]
    },
    {
      "cell_type": "code",
      "metadata": {
        "id": "BJwuXZ6WSnbL"
      },
      "source": [
        ""
      ],
      "execution_count": null,
      "outputs": []
    }
  ]
}