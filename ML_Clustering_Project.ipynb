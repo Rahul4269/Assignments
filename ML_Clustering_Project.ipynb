{
  "nbformat": 4,
  "nbformat_minor": 0,
  "metadata": {
    "colab": {
      "name": "ML Clustering Project.ipynb",
      "provenance": [],
      "collapsed_sections": [],
      "authorship_tag": "ABX9TyP2vOcBCB5fOKs1effFrah7",
      "include_colab_link": true
    },
    "kernelspec": {
      "name": "python3",
      "display_name": "Python 3"
    }
  },
  "cells": [
    {
      "cell_type": "markdown",
      "metadata": {
        "id": "view-in-github",
        "colab_type": "text"
      },
      "source": [
        "<a href=\"https://colab.research.google.com/github/Rahul4269/Assignments/blob/main/ML_Clustering_Project.ipynb\" target=\"_parent\"><img src=\"https://colab.research.google.com/assets/colab-badge.svg\" alt=\"Open In Colab\"/></a>"
      ]
    },
    {
      "cell_type": "code",
      "metadata": {
        "id": "41bwp39kesWA"
      },
      "source": [
        "import pandas as pd\n",
        "import numpy as np\n",
        "import matplotlib.pyplot as plt\n",
        "from mpl_toolkits.mplot3d import Axes3D\n",
        "from sklearn import decomposition\n",
        "from sklearn import datasets\n",
        "import seaborn as sns\n",
        "from sklearn.decomposition import PCA\n",
        "from sklearn.cluster import KMeans\n",
        "%matplotlib inline"
      ],
      "execution_count": null,
      "outputs": []
    },
    {
      "cell_type": "code",
      "metadata": {
        "id": "1Yh3rwCpez6h"
      },
      "source": [
        "df = pd.read_csv('/data_stocks (1).csv')"
      ],
      "execution_count": null,
      "outputs": []
    },
    {
      "cell_type": "code",
      "metadata": {
        "colab": {
          "base_uri": "https://localhost:8080/",
          "height": 253
        },
        "id": "MXtb1a4ChtW6",
        "outputId": "ad23a29f-bdbf-45a2-d114-d24cf1dff306"
      },
      "source": [
        "df.head()\n"
      ],
      "execution_count": null,
      "outputs": [
        {
          "output_type": "execute_result",
          "data": {
            "text/html": [
              "<div>\n",
              "<style scoped>\n",
              "    .dataframe tbody tr th:only-of-type {\n",
              "        vertical-align: middle;\n",
              "    }\n",
              "\n",
              "    .dataframe tbody tr th {\n",
              "        vertical-align: top;\n",
              "    }\n",
              "\n",
              "    .dataframe thead th {\n",
              "        text-align: right;\n",
              "    }\n",
              "</style>\n",
              "<table border=\"1\" class=\"dataframe\">\n",
              "  <thead>\n",
              "    <tr style=\"text-align: right;\">\n",
              "      <th></th>\n",
              "      <th>DATE</th>\n",
              "      <th>SP500</th>\n",
              "      <th>NASDAQ.AAL</th>\n",
              "      <th>NASDAQ.AAPL</th>\n",
              "      <th>NASDAQ.ADBE</th>\n",
              "      <th>NASDAQ.ADI</th>\n",
              "      <th>NASDAQ.ADP</th>\n",
              "      <th>NASDAQ.ADSK</th>\n",
              "      <th>NASDAQ.AKAM</th>\n",
              "      <th>NASDAQ.ALXN</th>\n",
              "      <th>NASDAQ.AMAT</th>\n",
              "      <th>NASDAQ.AMD</th>\n",
              "      <th>NASDAQ.AMGN</th>\n",
              "      <th>NASDAQ.AMZN</th>\n",
              "      <th>NASDAQ.ATVI</th>\n",
              "      <th>NASDAQ.AVGO</th>\n",
              "      <th>NASDAQ.BBBY</th>\n",
              "      <th>NASDAQ.BIIB</th>\n",
              "      <th>NASDAQ.CA</th>\n",
              "      <th>NASDAQ.CBOE</th>\n",
              "      <th>NASDAQ.CELG</th>\n",
              "      <th>NASDAQ.CERN</th>\n",
              "      <th>NASDAQ.CHRW</th>\n",
              "      <th>NASDAQ.CHTR</th>\n",
              "      <th>NASDAQ.CINF</th>\n",
              "      <th>NASDAQ.CMCSA</th>\n",
              "      <th>NASDAQ.CME</th>\n",
              "      <th>NASDAQ.COST</th>\n",
              "      <th>NASDAQ.CSCO</th>\n",
              "      <th>NASDAQ.CSX</th>\n",
              "      <th>NASDAQ.CTAS</th>\n",
              "      <th>NASDAQ.CTSH</th>\n",
              "      <th>NASDAQ.CTXS</th>\n",
              "      <th>NASDAQ.DISCA</th>\n",
              "      <th>NASDAQ.DISCK</th>\n",
              "      <th>NASDAQ.DISH</th>\n",
              "      <th>NASDAQ.DLTR</th>\n",
              "      <th>NASDAQ.EA</th>\n",
              "      <th>NASDAQ.EBAY</th>\n",
              "      <th>NASDAQ.EQIX</th>\n",
              "      <th>...</th>\n",
              "      <th>NYSE.UA</th>\n",
              "      <th>NYSE.UAA</th>\n",
              "      <th>NYSE.UAL</th>\n",
              "      <th>NYSE.UDR</th>\n",
              "      <th>NYSE.UHS</th>\n",
              "      <th>NYSE.UNH</th>\n",
              "      <th>NYSE.UNM</th>\n",
              "      <th>NYSE.UNP</th>\n",
              "      <th>NYSE.UPS</th>\n",
              "      <th>NYSE.URI</th>\n",
              "      <th>NYSE.USB</th>\n",
              "      <th>NYSE.UTX</th>\n",
              "      <th>NYSE.V</th>\n",
              "      <th>NYSE.VAR</th>\n",
              "      <th>NYSE.VFC</th>\n",
              "      <th>NYSE.VLO</th>\n",
              "      <th>NYSE.VMC</th>\n",
              "      <th>NYSE.VNO</th>\n",
              "      <th>NYSE.VTR</th>\n",
              "      <th>NYSE.VZ</th>\n",
              "      <th>NYSE.WAT</th>\n",
              "      <th>NYSE.WEC</th>\n",
              "      <th>NYSE.WFC</th>\n",
              "      <th>NYSE.WHR</th>\n",
              "      <th>NYSE.WM</th>\n",
              "      <th>NYSE.WMB</th>\n",
              "      <th>NYSE.WMT</th>\n",
              "      <th>NYSE.WRK</th>\n",
              "      <th>NYSE.WU</th>\n",
              "      <th>NYSE.WY</th>\n",
              "      <th>NYSE.WYN</th>\n",
              "      <th>NYSE.XEC</th>\n",
              "      <th>NYSE.XEL</th>\n",
              "      <th>NYSE.XL</th>\n",
              "      <th>NYSE.XOM</th>\n",
              "      <th>NYSE.XRX</th>\n",
              "      <th>NYSE.XYL</th>\n",
              "      <th>NYSE.YUM</th>\n",
              "      <th>NYSE.ZBH</th>\n",
              "      <th>NYSE.ZTS</th>\n",
              "    </tr>\n",
              "  </thead>\n",
              "  <tbody>\n",
              "    <tr>\n",
              "      <th>0</th>\n",
              "      <td>1491226200</td>\n",
              "      <td>2363.6101</td>\n",
              "      <td>42.3300</td>\n",
              "      <td>143.6800</td>\n",
              "      <td>129.6300</td>\n",
              "      <td>82.040</td>\n",
              "      <td>102.2300</td>\n",
              "      <td>85.2200</td>\n",
              "      <td>59.760</td>\n",
              "      <td>121.52</td>\n",
              "      <td>38.99</td>\n",
              "      <td>14.61</td>\n",
              "      <td>164.630</td>\n",
              "      <td>888.5500</td>\n",
              "      <td>49.850</td>\n",
              "      <td>219.11</td>\n",
              "      <td>39.43</td>\n",
              "      <td>274.080</td>\n",
              "      <td>31.780</td>\n",
              "      <td>81.03</td>\n",
              "      <td>124.89</td>\n",
              "      <td>58.820</td>\n",
              "      <td>77.725</td>\n",
              "      <td>330.73</td>\n",
              "      <td>72.430</td>\n",
              "      <td>37.470</td>\n",
              "      <td>119.385</td>\n",
              "      <td>167.740</td>\n",
              "      <td>33.7400</td>\n",
              "      <td>46.6450</td>\n",
              "      <td>126.8600</td>\n",
              "      <td>59.720</td>\n",
              "      <td>83.5400</td>\n",
              "      <td>29.020</td>\n",
              "      <td>28.370</td>\n",
              "      <td>63.4900</td>\n",
              "      <td>78.4600</td>\n",
              "      <td>89.90</td>\n",
              "      <td>33.3975</td>\n",
              "      <td>400.9400</td>\n",
              "      <td>...</td>\n",
              "      <td>18.6100</td>\n",
              "      <td>19.8901</td>\n",
              "      <td>70.69</td>\n",
              "      <td>36.26</td>\n",
              "      <td>124.66</td>\n",
              "      <td>164.62</td>\n",
              "      <td>47.0400</td>\n",
              "      <td>106.27</td>\n",
              "      <td>107.65</td>\n",
              "      <td>124.5901</td>\n",
              "      <td>51.6200</td>\n",
              "      <td>112.36</td>\n",
              "      <td>89.35</td>\n",
              "      <td>91.130</td>\n",
              "      <td>55.21</td>\n",
              "      <td>66.5900</td>\n",
              "      <td>120.1300</td>\n",
              "      <td>100.35</td>\n",
              "      <td>65.07</td>\n",
              "      <td>48.730</td>\n",
              "      <td>156.390</td>\n",
              "      <td>60.46</td>\n",
              "      <td>55.70</td>\n",
              "      <td>171.83</td>\n",
              "      <td>73.08</td>\n",
              "      <td>29.62</td>\n",
              "      <td>72.1000</td>\n",
              "      <td>52.160</td>\n",
              "      <td>20.34</td>\n",
              "      <td>34.00</td>\n",
              "      <td>84.370</td>\n",
              "      <td>119.035</td>\n",
              "      <td>44.40</td>\n",
              "      <td>39.88</td>\n",
              "      <td>82.03</td>\n",
              "      <td>7.36</td>\n",
              "      <td>50.22</td>\n",
              "      <td>63.86</td>\n",
              "      <td>122.000</td>\n",
              "      <td>53.350</td>\n",
              "    </tr>\n",
              "    <tr>\n",
              "      <th>1</th>\n",
              "      <td>1491226260</td>\n",
              "      <td>2364.1001</td>\n",
              "      <td>42.3600</td>\n",
              "      <td>143.7000</td>\n",
              "      <td>130.3200</td>\n",
              "      <td>82.080</td>\n",
              "      <td>102.1400</td>\n",
              "      <td>85.6500</td>\n",
              "      <td>59.840</td>\n",
              "      <td>121.48</td>\n",
              "      <td>39.01</td>\n",
              "      <td>14.71</td>\n",
              "      <td>164.680</td>\n",
              "      <td>887.1173</td>\n",
              "      <td>49.940</td>\n",
              "      <td>219.98</td>\n",
              "      <td>39.68</td>\n",
              "      <td>273.990</td>\n",
              "      <td>31.780</td>\n",
              "      <td>81.21</td>\n",
              "      <td>124.99</td>\n",
              "      <td>58.495</td>\n",
              "      <td>77.940</td>\n",
              "      <td>330.73</td>\n",
              "      <td>72.040</td>\n",
              "      <td>37.540</td>\n",
              "      <td>118.810</td>\n",
              "      <td>167.776</td>\n",
              "      <td>33.8800</td>\n",
              "      <td>46.6100</td>\n",
              "      <td>126.8600</td>\n",
              "      <td>59.830</td>\n",
              "      <td>83.9400</td>\n",
              "      <td>29.140</td>\n",
              "      <td>28.400</td>\n",
              "      <td>63.4600</td>\n",
              "      <td>78.6200</td>\n",
              "      <td>89.73</td>\n",
              "      <td>33.3950</td>\n",
              "      <td>400.4000</td>\n",
              "      <td>...</td>\n",
              "      <td>18.5100</td>\n",
              "      <td>19.8901</td>\n",
              "      <td>70.77</td>\n",
              "      <td>36.26</td>\n",
              "      <td>124.82</td>\n",
              "      <td>164.39</td>\n",
              "      <td>47.0400</td>\n",
              "      <td>106.27</td>\n",
              "      <td>107.65</td>\n",
              "      <td>124.5901</td>\n",
              "      <td>51.5800</td>\n",
              "      <td>112.36</td>\n",
              "      <td>89.35</td>\n",
              "      <td>91.210</td>\n",
              "      <td>55.12</td>\n",
              "      <td>66.3550</td>\n",
              "      <td>120.1300</td>\n",
              "      <td>100.03</td>\n",
              "      <td>65.04</td>\n",
              "      <td>48.752</td>\n",
              "      <td>157.190</td>\n",
              "      <td>59.93</td>\n",
              "      <td>55.81</td>\n",
              "      <td>171.54</td>\n",
              "      <td>72.95</td>\n",
              "      <td>29.64</td>\n",
              "      <td>72.1800</td>\n",
              "      <td>52.245</td>\n",
              "      <td>20.32</td>\n",
              "      <td>34.07</td>\n",
              "      <td>84.370</td>\n",
              "      <td>119.035</td>\n",
              "      <td>44.11</td>\n",
              "      <td>39.88</td>\n",
              "      <td>82.03</td>\n",
              "      <td>7.38</td>\n",
              "      <td>50.22</td>\n",
              "      <td>63.74</td>\n",
              "      <td>121.770</td>\n",
              "      <td>53.350</td>\n",
              "    </tr>\n",
              "    <tr>\n",
              "      <th>2</th>\n",
              "      <td>1491226320</td>\n",
              "      <td>2362.6799</td>\n",
              "      <td>42.3100</td>\n",
              "      <td>143.6901</td>\n",
              "      <td>130.2250</td>\n",
              "      <td>82.030</td>\n",
              "      <td>102.2125</td>\n",
              "      <td>85.5100</td>\n",
              "      <td>59.795</td>\n",
              "      <td>121.93</td>\n",
              "      <td>38.91</td>\n",
              "      <td>14.64</td>\n",
              "      <td>164.905</td>\n",
              "      <td>887.5110</td>\n",
              "      <td>49.860</td>\n",
              "      <td>219.39</td>\n",
              "      <td>39.60</td>\n",
              "      <td>274.275</td>\n",
              "      <td>31.765</td>\n",
              "      <td>81.21</td>\n",
              "      <td>125.00</td>\n",
              "      <td>58.470</td>\n",
              "      <td>77.815</td>\n",
              "      <td>330.73</td>\n",
              "      <td>72.055</td>\n",
              "      <td>37.610</td>\n",
              "      <td>118.830</td>\n",
              "      <td>168.000</td>\n",
              "      <td>33.9000</td>\n",
              "      <td>46.8850</td>\n",
              "      <td>126.9576</td>\n",
              "      <td>59.905</td>\n",
              "      <td>83.9400</td>\n",
              "      <td>29.150</td>\n",
              "      <td>28.375</td>\n",
              "      <td>63.5250</td>\n",
              "      <td>78.6311</td>\n",
              "      <td>89.24</td>\n",
              "      <td>33.4100</td>\n",
              "      <td>401.9850</td>\n",
              "      <td>...</td>\n",
              "      <td>18.4397</td>\n",
              "      <td>19.7900</td>\n",
              "      <td>70.62</td>\n",
              "      <td>36.19</td>\n",
              "      <td>124.82</td>\n",
              "      <td>165.30</td>\n",
              "      <td>46.9800</td>\n",
              "      <td>106.38</td>\n",
              "      <td>107.31</td>\n",
              "      <td>124.7100</td>\n",
              "      <td>51.4600</td>\n",
              "      <td>112.13</td>\n",
              "      <td>89.16</td>\n",
              "      <td>91.080</td>\n",
              "      <td>55.09</td>\n",
              "      <td>66.2417</td>\n",
              "      <td>120.3368</td>\n",
              "      <td>100.39</td>\n",
              "      <td>65.08</td>\n",
              "      <td>48.720</td>\n",
              "      <td>157.070</td>\n",
              "      <td>60.08</td>\n",
              "      <td>55.64</td>\n",
              "      <td>171.55</td>\n",
              "      <td>72.98</td>\n",
              "      <td>29.67</td>\n",
              "      <td>72.3192</td>\n",
              "      <td>52.200</td>\n",
              "      <td>20.26</td>\n",
              "      <td>34.11</td>\n",
              "      <td>84.585</td>\n",
              "      <td>119.260</td>\n",
              "      <td>44.09</td>\n",
              "      <td>39.98</td>\n",
              "      <td>82.02</td>\n",
              "      <td>7.36</td>\n",
              "      <td>50.12</td>\n",
              "      <td>63.75</td>\n",
              "      <td>121.700</td>\n",
              "      <td>53.365</td>\n",
              "    </tr>\n",
              "    <tr>\n",
              "      <th>3</th>\n",
              "      <td>1491226380</td>\n",
              "      <td>2364.3101</td>\n",
              "      <td>42.3700</td>\n",
              "      <td>143.6400</td>\n",
              "      <td>130.0729</td>\n",
              "      <td>82.000</td>\n",
              "      <td>102.1400</td>\n",
              "      <td>85.4872</td>\n",
              "      <td>59.620</td>\n",
              "      <td>121.44</td>\n",
              "      <td>38.84</td>\n",
              "      <td>14.63</td>\n",
              "      <td>164.760</td>\n",
              "      <td>886.2700</td>\n",
              "      <td>49.915</td>\n",
              "      <td>219.30</td>\n",
              "      <td>39.57</td>\n",
              "      <td>273.590</td>\n",
              "      <td>31.830</td>\n",
              "      <td>81.13</td>\n",
              "      <td>124.73</td>\n",
              "      <td>58.420</td>\n",
              "      <td>77.950</td>\n",
              "      <td>330.73</td>\n",
              "      <td>72.140</td>\n",
              "      <td>37.620</td>\n",
              "      <td>118.680</td>\n",
              "      <td>168.200</td>\n",
              "      <td>33.8499</td>\n",
              "      <td>46.7000</td>\n",
              "      <td>126.7000</td>\n",
              "      <td>59.700</td>\n",
              "      <td>83.7064</td>\n",
              "      <td>29.125</td>\n",
              "      <td>28.350</td>\n",
              "      <td>63.5300</td>\n",
              "      <td>78.7060</td>\n",
              "      <td>89.17</td>\n",
              "      <td>33.3350</td>\n",
              "      <td>401.5000</td>\n",
              "      <td>...</td>\n",
              "      <td>18.3700</td>\n",
              "      <td>19.7875</td>\n",
              "      <td>70.62</td>\n",
              "      <td>36.00</td>\n",
              "      <td>124.82</td>\n",
              "      <td>165.16</td>\n",
              "      <td>46.8097</td>\n",
              "      <td>106.33</td>\n",
              "      <td>107.49</td>\n",
              "      <td>124.4889</td>\n",
              "      <td>51.3800</td>\n",
              "      <td>112.01</td>\n",
              "      <td>89.06</td>\n",
              "      <td>91.015</td>\n",
              "      <td>55.21</td>\n",
              "      <td>66.1700</td>\n",
              "      <td>120.3100</td>\n",
              "      <td>100.39</td>\n",
              "      <td>64.95</td>\n",
              "      <td>48.695</td>\n",
              "      <td>156.945</td>\n",
              "      <td>60.39</td>\n",
              "      <td>55.64</td>\n",
              "      <td>171.26</td>\n",
              "      <td>73.09</td>\n",
              "      <td>29.79</td>\n",
              "      <td>72.4300</td>\n",
              "      <td>52.140</td>\n",
              "      <td>20.20</td>\n",
              "      <td>33.97</td>\n",
              "      <td>84.460</td>\n",
              "      <td>119.260</td>\n",
              "      <td>44.25</td>\n",
              "      <td>39.99</td>\n",
              "      <td>82.02</td>\n",
              "      <td>7.35</td>\n",
              "      <td>50.16</td>\n",
              "      <td>63.88</td>\n",
              "      <td>121.700</td>\n",
              "      <td>53.380</td>\n",
              "    </tr>\n",
              "    <tr>\n",
              "      <th>4</th>\n",
              "      <td>1491226440</td>\n",
              "      <td>2364.8501</td>\n",
              "      <td>42.5378</td>\n",
              "      <td>143.6600</td>\n",
              "      <td>129.8800</td>\n",
              "      <td>82.035</td>\n",
              "      <td>102.0600</td>\n",
              "      <td>85.7001</td>\n",
              "      <td>59.620</td>\n",
              "      <td>121.60</td>\n",
              "      <td>38.93</td>\n",
              "      <td>14.67</td>\n",
              "      <td>164.850</td>\n",
              "      <td>886.5800</td>\n",
              "      <td>49.915</td>\n",
              "      <td>219.18</td>\n",
              "      <td>39.55</td>\n",
              "      <td>273.540</td>\n",
              "      <td>31.830</td>\n",
              "      <td>81.12</td>\n",
              "      <td>124.83</td>\n",
              "      <td>58.600</td>\n",
              "      <td>78.050</td>\n",
              "      <td>330.73</td>\n",
              "      <td>72.215</td>\n",
              "      <td>37.625</td>\n",
              "      <td>118.935</td>\n",
              "      <td>168.040</td>\n",
              "      <td>33.8400</td>\n",
              "      <td>46.8562</td>\n",
              "      <td>126.8900</td>\n",
              "      <td>59.500</td>\n",
              "      <td>84.0000</td>\n",
              "      <td>29.140</td>\n",
              "      <td>28.410</td>\n",
              "      <td>63.6344</td>\n",
              "      <td>78.5850</td>\n",
              "      <td>88.95</td>\n",
              "      <td>33.4000</td>\n",
              "      <td>399.7704</td>\n",
              "      <td>...</td>\n",
              "      <td>18.3850</td>\n",
              "      <td>19.7324</td>\n",
              "      <td>70.78</td>\n",
              "      <td>36.01</td>\n",
              "      <td>124.82</td>\n",
              "      <td>165.24</td>\n",
              "      <td>47.0200</td>\n",
              "      <td>106.56</td>\n",
              "      <td>107.48</td>\n",
              "      <td>125.2449</td>\n",
              "      <td>51.4347</td>\n",
              "      <td>112.23</td>\n",
              "      <td>89.10</td>\n",
              "      <td>91.000</td>\n",
              "      <td>55.32</td>\n",
              "      <td>66.1800</td>\n",
              "      <td>120.3600</td>\n",
              "      <td>100.11</td>\n",
              "      <td>64.84</td>\n",
              "      <td>48.630</td>\n",
              "      <td>157.160</td>\n",
              "      <td>60.18</td>\n",
              "      <td>55.68</td>\n",
              "      <td>171.18</td>\n",
              "      <td>72.99</td>\n",
              "      <td>29.71</td>\n",
              "      <td>72.4800</td>\n",
              "      <td>52.140</td>\n",
              "      <td>20.22</td>\n",
              "      <td>34.00</td>\n",
              "      <td>84.470</td>\n",
              "      <td>119.610</td>\n",
              "      <td>44.11</td>\n",
              "      <td>39.96</td>\n",
              "      <td>82.03</td>\n",
              "      <td>7.36</td>\n",
              "      <td>50.20</td>\n",
              "      <td>63.91</td>\n",
              "      <td>121.695</td>\n",
              "      <td>53.240</td>\n",
              "    </tr>\n",
              "  </tbody>\n",
              "</table>\n",
              "<p>5 rows × 502 columns</p>\n",
              "</div>"
            ],
            "text/plain": [
              "         DATE      SP500  NASDAQ.AAL  ...  NYSE.YUM  NYSE.ZBH  NYSE.ZTS\n",
              "0  1491226200  2363.6101     42.3300  ...     63.86   122.000    53.350\n",
              "1  1491226260  2364.1001     42.3600  ...     63.74   121.770    53.350\n",
              "2  1491226320  2362.6799     42.3100  ...     63.75   121.700    53.365\n",
              "3  1491226380  2364.3101     42.3700  ...     63.88   121.700    53.380\n",
              "4  1491226440  2364.8501     42.5378  ...     63.91   121.695    53.240\n",
              "\n",
              "[5 rows x 502 columns]"
            ]
          },
          "metadata": {
            "tags": []
          },
          "execution_count": 6
        }
      ]
    },
    {
      "cell_type": "code",
      "metadata": {
        "id": "9Z-WMup3iHQr"
      },
      "source": [
        "from sklearn.preprocessing import StandardScaler\n",
        "features = df.values\n",
        "sc = StandardScaler()\n",
        "X_scaled = sc.fit_transform(features)"
      ],
      "execution_count": null,
      "outputs": []
    },
    {
      "cell_type": "code",
      "metadata": {
        "colab": {
          "base_uri": "https://localhost:8080/"
        },
        "id": "cyvh73puiHet",
        "outputId": "fbdbd469-6b5a-4fba-a12b-508b6a562223"
      },
      "source": [
        "X_scaled.shape"
      ],
      "execution_count": null,
      "outputs": [
        {
          "output_type": "execute_result",
          "data": {
            "text/plain": [
              "(41266, 502)"
            ]
          },
          "metadata": {
            "tags": []
          },
          "execution_count": 8
        }
      ]
    },
    {
      "cell_type": "code",
      "metadata": {
        "colab": {
          "base_uri": "https://localhost:8080/",
          "height": 279
        },
        "id": "RrD_2YAliHqS",
        "outputId": "484fde81-155a-44de-fb3d-9c89945847b2"
      },
      "source": [
        "sns.set_style('whitegrid')\n",
        "pca = PCA().fit(X_scaled)\n",
        "plt.plot(np.cumsum(pca.explained_variance_ratio_))\n",
        "plt.xlabel('number of components')\n",
        "plt.ylabel('cumulative explained variance')\n",
        "plt.show()"
      ],
      "execution_count": null,
      "outputs": [
        {
          "output_type": "display_data",
          "data": {
            "image/png": "[encoded data removed]",
            "text/plain": [
              "<Figure size 432x288 with 1 Axes>"
            ]
          },
          "metadata": {
            "tags": []
          }
        }
      ]
    },
    {
      "cell_type": "code",
      "metadata": {
        "colab": {
          "base_uri": "https://localhost:8080/"
        },
        "id": "wibVBm9JiphJ",
        "outputId": "c933587b-c02f-46c0-efa2-682d07b568af"
      },
      "source": [
        "pca = PCA(n_components=2)\n",
        "pca.fit(X_scaled)\n",
        "print('explained variance :')\n",
        "print('--------------------------------------------------------------------')\n",
        "print(pca.explained_variance_)\n",
        "print('--------------------------------------------------------------------')\n",
        "print('PCA Components : ')\n",
        "print('--------------------------------------------------------------------')\n",
        "print(pca.components_)\n",
        "print('--------------------------------------------------------------------')\n",
        "X_transformed = pca.transform(X_scaled)\n",
        "print('Transformed Feature values first five rows :')\n",
        "print('--------------------------------------------------------------------')\n",
        "print(X_transformed[:5,:])\n",
        "print('--------------------------------------------------------------------')\n",
        "print('Transformed Feature shape :')\n",
        "print('--------------------------------------------------------------------')\n",
        "print(X_transformed.shape)\n",
        "print('--------------------------------------------------------------------')\n",
        "print('Original Feature shape :')\n",
        "print('--------------------------------------------------------------------')\n",
        "print(X_scaled.shape)\n",
        "print('--------------------------------------------------------------------')\n",
        "print('Restransformed Feature shape :')\n",
        "print('--------------------------------------------------------------------')\n",
        "X_retransformed = pca.inverse_transform(X_transformed)\n",
        "print(X_retransformed.shape)\n",
        "print('--------------------------------------------------------------------')\n",
        "print('Retransformed Feature values first five rows :')\n",
        "print('--------------------------------------------------------------------')\n",
        "print(X_retransformed[:5,:])\n",
        "print('--------------------------------------------------------------------')"
      ],
      "execution_count": null,
      "outputs": [
        {
          "output_type": "stream",
          "text": [
            "explained variance :\n",
            "--------------------------------------------------------------------\n",
            "[237.01475857  86.20695296]\n",
            "--------------------------------------------------------------------\n",
            "PCA Components : \n",
            "--------------------------------------------------------------------\n",
            "[[-0.0641156  -0.06100625 -0.03912755 ... -0.06222908  0.00249839\n",
            "  -0.05149673]\n",
            " [ 0.01345954 -0.01783581 -0.06428133 ... -0.02036739 -0.08124665\n",
            "  -0.05945237]]\n",
            "--------------------------------------------------------------------\n",
            "Transformed Feature values first five rows :\n",
            "--------------------------------------------------------------------\n",
            "[[25.64715405  9.99154156]\n",
            " [25.74447983  9.87809253]\n",
            " [25.66169481  9.81134664]\n",
            " [25.76412613  9.97993834]\n",
            " [25.67551977  9.86346559]]\n",
            "--------------------------------------------------------------------\n",
            "Transformed Feature shape :\n",
            "--------------------------------------------------------------------\n",
            "(41266, 2)\n",
            "--------------------------------------------------------------------\n",
            "Original Feature shape :\n",
            "--------------------------------------------------------------------\n",
            "(41266, 502)\n",
            "--------------------------------------------------------------------\n",
            "Restransformed Feature shape :\n",
            "--------------------------------------------------------------------\n",
            "(41266, 502)\n",
            "--------------------------------------------------------------------\n",
            "Retransformed Feature values first five rows :\n",
            "--------------------------------------------------------------------\n",
            "[[-1.50990118 -1.74284403 -1.64577982 ... -1.7995004  -0.74770277\n",
            "  -1.91476551]\n",
            " [-1.51766825 -1.74675806 -1.64229528 ... -1.80324623 -0.73824226\n",
            "  -1.91303266]\n",
            " [-1.51325881 -1.74051719 -1.63476559 ... -1.79673515 -0.7330262\n",
            "  -1.9048013 ]\n",
            " [-1.51755709 -1.74977311 -1.64961078 ... -1.80654313 -0.7464678\n",
            "  -1.92009935]\n",
            " [-1.51344371 -1.74229018 -1.63865681 ... -1.798657   -0.73722615\n",
            "  -1.90861183]]\n",
            "--------------------------------------------------------------------\n"
          ],
          "name": "stdout"
        }
      ]
    },
    {
      "cell_type": "code",
      "metadata": {
        "colab": {
          "base_uri": "https://localhost:8080/",
          "height": 312
        },
        "id": "YsmJzJRgipwU",
        "outputId": "b8e92f9e-9e61-4b16-aaac-ceb3c4929e08"
      },
      "source": [
        "wcss=[]\n",
        "for i in range(1, 21):\n",
        "    kmeans = KMeans(n_clusters = i, init = 'k-means++', random_state = 0)\n",
        "    kmeans.fit(X_transformed)\n",
        "    wcss.append(kmeans.inertia_)\n",
        "plt.plot(range(1, 21), wcss)\n",
        "plt.title('The Elbow Method')\n",
        "plt.xlabel('Number of clusters')\n",
        "plt.ylabel('Mean Squared Errors')\n",
        "plt.figure(figsize=(10,8))\n",
        "plt.show()"
      ],
      "execution_count": null,
      "outputs": [
        {
          "output_type": "display_data",
          "data": {
            "image/png": "[encoded data removed]",
            "text/plain": [
              "<Figure size 432x288 with 1 Axes>"
            ]
          },
          "metadata": {
            "tags": []
          }
        },
        {
          "output_type": "display_data",
          "data": {
            "text/plain": [
              "<Figure size 720x576 with 0 Axes>"
            ]
          },
          "metadata": {
            "tags": []
          }
        }
      ]
    },
    {
      "cell_type": "code",
      "metadata": {
        "colab": {
          "base_uri": "https://localhost:8080/"
        },
        "id": "T-6K4nrQl4WR",
        "outputId": "42ed5cca-6f50-4a10-ae7f-f79916e49aa6"
      },
      "source": [
        "pip install scikit-plot"
      ],
      "execution_count": null,
      "outputs": [
        {
          "output_type": "stream",
          "text": [
            "Collecting scikit-plot\n",
            "  Downloading https://files.pythonhosted.org/packages/7c/47/32520e259340c140a4ad27c1b97050dd3254fdc517b1d59974d47037510e/scikit_plot-0.3.7-py3-none-any.whl\n",
            "Requirement already satisfied: matplotlib>=1.4.0 in /usr/local/lib/python3.6/dist-packages (from scikit-plot) (3.2.2)\n",
            "Requirement already satisfied: joblib>=0.10 in /usr/local/lib/python3.6/dist-packages (from scikit-plot) (0.17.0)\n",
            "Requirement already satisfied: scikit-learn>=0.18 in /usr/local/lib/python3.6/dist-packages (from scikit-plot) (0.22.2.post1)\n",
            "Requirement already satisfied: scipy>=0.9 in /usr/local/lib/python3.6/dist-packages (from scikit-plot) (1.4.1)\n",
            "Requirement already satisfied: python-dateutil>=2.1 in /usr/local/lib/python3.6/dist-packages (from matplotlib>=1.4.0->scikit-plot) (2.8.1)\n",
            "Requirement already satisfied: pyparsing!=2.0.4,!=2.1.2,!=2.1.6,>=2.0.1 in /usr/local/lib/python3.6/dist-packages (from matplotlib>=1.4.0->scikit-plot) (2.4.7)\n",
            "Requirement already satisfied: cycler>=0.10 in /usr/local/lib/python3.6/dist-packages (from matplotlib>=1.4.0->scikit-plot) (0.10.0)\n",
            "Requirement already satisfied: kiwisolver>=1.0.1 in /usr/local/lib/python3.6/dist-packages (from matplotlib>=1.4.0->scikit-plot) (1.3.1)\n",
            "Requirement already satisfied: numpy>=1.11 in /usr/local/lib/python3.6/dist-packages (from matplotlib>=1.4.0->scikit-plot) (1.18.5)\n",
            "Requirement already satisfied: six>=1.5 in /usr/local/lib/python3.6/dist-packages (from python-dateutil>=2.1->matplotlib>=1.4.0->scikit-plot) (1.15.0)\n",
            "Installing collected packages: scikit-plot\n",
            "Successfully installed scikit-plot-0.3.7\n"
          ],
          "name": "stdout"
        }
      ]
    },
    {
      "cell_type": "code",
      "metadata": {
        "colab": {
          "base_uri": "https://localhost:8080/",
          "height": 312
        },
        "id": "v_jdgHe-ip8k",
        "outputId": "7c9db80f-9203-455e-dd24-222e610a0997"
      },
      "source": [
        "import scikitplot\n",
        "scikitplot.cluster.plot_elbow_curve(KMeans(),X_transformed,cluster_ranges=range(1,20))"
      ],
      "execution_count": null,
      "outputs": [
        {
          "output_type": "execute_result",
          "data": {
            "text/plain": [
              "<matplotlib.axes._subplots.AxesSubplot at 0x7fa46ec53160>"
            ]
          },
          "metadata": {
            "tags": []
          },
          "execution_count": 17
        },
        {
          "output_type": "display_data",
          "data": {
            "image/png": "[encoded data removed]",
            "text/plain": [
              "<Figure size 432x288 with 2 Axes>"
            ]
          },
          "metadata": {
            "tags": []
          }
        }
      ]
    },
    {
      "cell_type": "code",
      "metadata": {
        "id": "aPtqv9MCiqII"
      },
      "source": [
        "k_means = KMeans(n_clusters=5,random_state=0,init='k-means++')\n",
        "k_means.fit(X_transformed)\n",
        "y_kmeans = kmeans.fit_predict(X_transformed)\n",
        "labels = k_means.labels_"
      ],
      "execution_count": null,
      "outputs": []
    },
    {
      "cell_type": "code",
      "metadata": {
        "colab": {
          "base_uri": "https://localhost:8080/"
        },
        "id": "Md51JwhVi7Xf",
        "outputId": "09cc6464-62ef-441d-bebc-c97a92c25746"
      },
      "source": [
        "len(labels)\n"
      ],
      "execution_count": null,
      "outputs": [
        {
          "output_type": "execute_result",
          "data": {
            "text/plain": [
              "41266"
            ]
          },
          "metadata": {
            "tags": []
          },
          "execution_count": 19
        }
      ]
    },
    {
      "cell_type": "code",
      "metadata": {
        "colab": {
          "base_uri": "https://localhost:8080/",
          "height": 295
        },
        "id": "C__0ODlji7qM",
        "outputId": "c60f87a4-d8fa-45d2-a243-bf34d1adbed4"
      },
      "source": [
        "plt.scatter(X_transformed[y_kmeans == 0, 0], X_transformed[y_kmeans == 0, 1], s = 100, c = 'red', label = 'Cluster 1')\n",
        "plt.scatter(X_transformed[y_kmeans == 1, 0], X_transformed[y_kmeans == 1, 1], s = 100, c = 'blue', label = 'Cluster 2')\n",
        "plt.scatter(X_transformed[y_kmeans == 2, 0], X_transformed[y_kmeans == 2, 1], s = 100, c = 'green', label = 'Cluster 3')\n",
        "plt.scatter(X_transformed[y_kmeans == 3, 0], X_transformed[y_kmeans == 3, 1], s = 100, c = 'cyan', label = 'Cluster 4')\n",
        "plt.scatter(X_transformed[y_kmeans == 4, 0], X_transformed[y_kmeans == 4, 1], s = 100, c = 'magenta', label = 'Cluster 5')\n",
        "#plt.scatter(kmeans.cluster_centers_[:, 0], kmeans.cluster_centers_[:, 1], s = 300, c = 'yellow', label = 'Centroids')\n",
        "plt.title('Clusters of stocks')\n",
        "plt.xlabel('Principal Component (1)')\n",
        "plt.ylabel('Principal Component (2)')\n",
        "plt.legend()\n",
        "plt.show()"
      ],
      "execution_count": null,
      "outputs": [
        {
          "output_type": "display_data",
          "data": {
            "image/png": "[encoded data removed]",
            "text/plain": [
              "<Figure size 432x288 with 1 Axes>"
            ]
          },
          "metadata": {
            "tags": []
          }
        }
      ]
    },
    {
      "cell_type": "markdown",
      "metadata": {
        "id": "0AM6P1WIjMzb"
      },
      "source": [
        "**Problem 2:\n",
        "How many Unique patterns that exist in the historical stock data set, based on fluctuations in price.**"
      ]
    },
    {
      "cell_type": "code",
      "metadata": {
        "colab": {
          "base_uri": "https://localhost:8080/",
          "height": 160
        },
        "id": "A03QWu0jjK9w",
        "outputId": "a0f9dc1f-d564-41e9-c048-96fe18b41d58"
      },
      "source": [
        "df_comp = pd.DataFrame(pca.components_,columns=df.columns)\n",
        "df_comp.head()"
      ],
      "execution_count": null,
      "outputs": [
        {
          "output_type": "execute_result",
          "data": {
            "text/html": [
              "<div>\n",
              "<style scoped>\n",
              "    .dataframe tbody tr th:only-of-type {\n",
              "        vertical-align: middle;\n",
              "    }\n",
              "\n",
              "    .dataframe tbody tr th {\n",
              "        vertical-align: top;\n",
              "    }\n",
              "\n",
              "    .dataframe thead th {\n",
              "        text-align: right;\n",
              "    }\n",
              "</style>\n",
              "<table border=\"1\" class=\"dataframe\">\n",
              "  <thead>\n",
              "    <tr style=\"text-align: right;\">\n",
              "      <th></th>\n",
              "      <th>DATE</th>\n",
              "      <th>SP500</th>\n",
              "      <th>NASDAQ.AAL</th>\n",
              "      <th>NASDAQ.AAPL</th>\n",
              "      <th>NASDAQ.ADBE</th>\n",
              "      <th>NASDAQ.ADI</th>\n",
              "      <th>NASDAQ.ADP</th>\n",
              "      <th>NASDAQ.ADSK</th>\n",
              "      <th>NASDAQ.AKAM</th>\n",
              "      <th>NASDAQ.ALXN</th>\n",
              "      <th>NASDAQ.AMAT</th>\n",
              "      <th>NASDAQ.AMD</th>\n",
              "      <th>NASDAQ.AMGN</th>\n",
              "      <th>NASDAQ.AMZN</th>\n",
              "      <th>NASDAQ.ATVI</th>\n",
              "      <th>NASDAQ.AVGO</th>\n",
              "      <th>NASDAQ.BBBY</th>\n",
              "      <th>NASDAQ.BIIB</th>\n",
              "      <th>NASDAQ.CA</th>\n",
              "      <th>NASDAQ.CBOE</th>\n",
              "      <th>NASDAQ.CELG</th>\n",
              "      <th>NASDAQ.CERN</th>\n",
              "      <th>NASDAQ.CHRW</th>\n",
              "      <th>NASDAQ.CHTR</th>\n",
              "      <th>NASDAQ.CINF</th>\n",
              "      <th>NASDAQ.CMCSA</th>\n",
              "      <th>NASDAQ.CME</th>\n",
              "      <th>NASDAQ.COST</th>\n",
              "      <th>NASDAQ.CSCO</th>\n",
              "      <th>NASDAQ.CSX</th>\n",
              "      <th>NASDAQ.CTAS</th>\n",
              "      <th>NASDAQ.CTSH</th>\n",
              "      <th>NASDAQ.CTXS</th>\n",
              "      <th>NASDAQ.DISCA</th>\n",
              "      <th>NASDAQ.DISCK</th>\n",
              "      <th>NASDAQ.DISH</th>\n",
              "      <th>NASDAQ.DLTR</th>\n",
              "      <th>NASDAQ.EA</th>\n",
              "      <th>NASDAQ.EBAY</th>\n",
              "      <th>NASDAQ.EQIX</th>\n",
              "      <th>...</th>\n",
              "      <th>NYSE.UA</th>\n",
              "      <th>NYSE.UAA</th>\n",
              "      <th>NYSE.UAL</th>\n",
              "      <th>NYSE.UDR</th>\n",
              "      <th>NYSE.UHS</th>\n",
              "      <th>NYSE.UNH</th>\n",
              "      <th>NYSE.UNM</th>\n",
              "      <th>NYSE.UNP</th>\n",
              "      <th>NYSE.UPS</th>\n",
              "      <th>NYSE.URI</th>\n",
              "      <th>NYSE.USB</th>\n",
              "      <th>NYSE.UTX</th>\n",
              "      <th>NYSE.V</th>\n",
              "      <th>NYSE.VAR</th>\n",
              "      <th>NYSE.VFC</th>\n",
              "      <th>NYSE.VLO</th>\n",
              "      <th>NYSE.VMC</th>\n",
              "      <th>NYSE.VNO</th>\n",
              "      <th>NYSE.VTR</th>\n",
              "      <th>NYSE.VZ</th>\n",
              "      <th>NYSE.WAT</th>\n",
              "      <th>NYSE.WEC</th>\n",
              "      <th>NYSE.WFC</th>\n",
              "      <th>NYSE.WHR</th>\n",
              "      <th>NYSE.WM</th>\n",
              "      <th>NYSE.WMB</th>\n",
              "      <th>NYSE.WMT</th>\n",
              "      <th>NYSE.WRK</th>\n",
              "      <th>NYSE.WU</th>\n",
              "      <th>NYSE.WY</th>\n",
              "      <th>NYSE.WYN</th>\n",
              "      <th>NYSE.XEC</th>\n",
              "      <th>NYSE.XEL</th>\n",
              "      <th>NYSE.XL</th>\n",
              "      <th>NYSE.XOM</th>\n",
              "      <th>NYSE.XRX</th>\n",
              "      <th>NYSE.XYL</th>\n",
              "      <th>NYSE.YUM</th>\n",
              "      <th>NYSE.ZBH</th>\n",
              "      <th>NYSE.ZTS</th>\n",
              "    </tr>\n",
              "  </thead>\n",
              "  <tbody>\n",
              "    <tr>\n",
              "      <th>0</th>\n",
              "      <td>-0.064116</td>\n",
              "      <td>-0.061006</td>\n",
              "      <td>-0.039128</td>\n",
              "      <td>-0.040896</td>\n",
              "      <td>-0.062662</td>\n",
              "      <td>-0.009756</td>\n",
              "      <td>-0.035746</td>\n",
              "      <td>-0.054455</td>\n",
              "      <td>0.050145</td>\n",
              "      <td>-0.035261</td>\n",
              "      <td>-0.043901</td>\n",
              "      <td>-0.014635</td>\n",
              "      <td>-0.045684</td>\n",
              "      <td>-0.046463</td>\n",
              "      <td>-0.061982</td>\n",
              "      <td>-0.057819</td>\n",
              "      <td>0.061089</td>\n",
              "      <td>-0.036388</td>\n",
              "      <td>-0.023044</td>\n",
              "      <td>-0.062826</td>\n",
              "      <td>-0.042575</td>\n",
              "      <td>-0.037288</td>\n",
              "      <td>0.050328</td>\n",
              "      <td>-0.047953</td>\n",
              "      <td>-0.050038</td>\n",
              "      <td>-0.041131</td>\n",
              "      <td>-0.051448</td>\n",
              "      <td>0.044845</td>\n",
              "      <td>0.044743</td>\n",
              "      <td>-0.015890</td>\n",
              "      <td>-0.054071</td>\n",
              "      <td>-0.062100</td>\n",
              "      <td>0.050145</td>\n",
              "      <td>0.053888</td>\n",
              "      <td>0.05508</td>\n",
              "      <td>0.014670</td>\n",
              "      <td>0.034786</td>\n",
              "      <td>-0.058281</td>\n",
              "      <td>-0.046511</td>\n",
              "      <td>-0.057466</td>\n",
              "      <td>...</td>\n",
              "      <td>0.024075</td>\n",
              "      <td>0.020486</td>\n",
              "      <td>0.017617</td>\n",
              "      <td>-0.050047</td>\n",
              "      <td>0.042899</td>\n",
              "      <td>-0.063667</td>\n",
              "      <td>-0.045168</td>\n",
              "      <td>0.032648</td>\n",
              "      <td>-0.056725</td>\n",
              "      <td>0.009207</td>\n",
              "      <td>-0.041132</td>\n",
              "      <td>-0.023559</td>\n",
              "      <td>-0.061033</td>\n",
              "      <td>-0.050028</td>\n",
              "      <td>-0.050054</td>\n",
              "      <td>-0.033616</td>\n",
              "      <td>0.010411</td>\n",
              "      <td>0.056413</td>\n",
              "      <td>-0.030874</td>\n",
              "      <td>0.007553</td>\n",
              "      <td>-0.048519</td>\n",
              "      <td>-0.051523</td>\n",
              "      <td>0.014332</td>\n",
              "      <td>-0.010042</td>\n",
              "      <td>-0.051024</td>\n",
              "      <td>-0.001810</td>\n",
              "      <td>-0.045208</td>\n",
              "      <td>-0.051179</td>\n",
              "      <td>0.032272</td>\n",
              "      <td>0.044011</td>\n",
              "      <td>-0.049236</td>\n",
              "      <td>0.056778</td>\n",
              "      <td>-0.054394</td>\n",
              "      <td>-0.050423</td>\n",
              "      <td>0.046987</td>\n",
              "      <td>-0.057669</td>\n",
              "      <td>-0.061151</td>\n",
              "      <td>-0.062229</td>\n",
              "      <td>0.002498</td>\n",
              "      <td>-0.051497</td>\n",
              "    </tr>\n",
              "    <tr>\n",
              "      <th>1</th>\n",
              "      <td>0.013460</td>\n",
              "      <td>-0.017836</td>\n",
              "      <td>-0.064281</td>\n",
              "      <td>0.033885</td>\n",
              "      <td>0.001886</td>\n",
              "      <td>-0.032434</td>\n",
              "      <td>0.043464</td>\n",
              "      <td>-0.029479</td>\n",
              "      <td>0.016120</td>\n",
              "      <td>0.058259</td>\n",
              "      <td>-0.052638</td>\n",
              "      <td>0.012326</td>\n",
              "      <td>0.008248</td>\n",
              "      <td>-0.059810</td>\n",
              "      <td>-0.014034</td>\n",
              "      <td>-0.022569</td>\n",
              "      <td>0.002818</td>\n",
              "      <td>0.060055</td>\n",
              "      <td>-0.039694</td>\n",
              "      <td>0.018886</td>\n",
              "      <td>0.024843</td>\n",
              "      <td>-0.071513</td>\n",
              "      <td>0.039269</td>\n",
              "      <td>0.064119</td>\n",
              "      <td>0.056244</td>\n",
              "      <td>-0.022608</td>\n",
              "      <td>0.005277</td>\n",
              "      <td>-0.023939</td>\n",
              "      <td>0.017052</td>\n",
              "      <td>-0.091802</td>\n",
              "      <td>0.029563</td>\n",
              "      <td>-0.014349</td>\n",
              "      <td>-0.040003</td>\n",
              "      <td>-0.021225</td>\n",
              "      <td>-0.02514</td>\n",
              "      <td>-0.083072</td>\n",
              "      <td>0.042050</td>\n",
              "      <td>-0.016998</td>\n",
              "      <td>-0.020906</td>\n",
              "      <td>0.000981</td>\n",
              "      <td>...</td>\n",
              "      <td>-0.082766</td>\n",
              "      <td>-0.080350</td>\n",
              "      <td>-0.097955</td>\n",
              "      <td>-0.044520</td>\n",
              "      <td>-0.040772</td>\n",
              "      <td>0.009006</td>\n",
              "      <td>0.043456</td>\n",
              "      <td>-0.064047</td>\n",
              "      <td>0.021699</td>\n",
              "      <td>0.049384</td>\n",
              "      <td>-0.009217</td>\n",
              "      <td>-0.088822</td>\n",
              "      <td>0.027146</td>\n",
              "      <td>-0.054588</td>\n",
              "      <td>0.060756</td>\n",
              "      <td>0.021993</td>\n",
              "      <td>-0.094949</td>\n",
              "      <td>-0.036941</td>\n",
              "      <td>-0.050905</td>\n",
              "      <td>0.086200</td>\n",
              "      <td>-0.060956</td>\n",
              "      <td>0.019140</td>\n",
              "      <td>-0.033710</td>\n",
              "      <td>-0.098286</td>\n",
              "      <td>0.043280</td>\n",
              "      <td>0.016388</td>\n",
              "      <td>0.010231</td>\n",
              "      <td>-0.045487</td>\n",
              "      <td>0.038620</td>\n",
              "      <td>-0.022085</td>\n",
              "      <td>-0.058924</td>\n",
              "      <td>0.030252</td>\n",
              "      <td>0.013685</td>\n",
              "      <td>-0.040764</td>\n",
              "      <td>-0.052832</td>\n",
              "      <td>0.010248</td>\n",
              "      <td>0.031474</td>\n",
              "      <td>-0.020367</td>\n",
              "      <td>-0.081247</td>\n",
              "      <td>-0.059452</td>\n",
              "    </tr>\n",
              "  </tbody>\n",
              "</table>\n",
              "<p>2 rows × 502 columns</p>\n",
              "</div>"
            ],
            "text/plain": [
              "       DATE     SP500  NASDAQ.AAL  ...  NYSE.YUM  NYSE.ZBH  NYSE.ZTS\n",
              "0 -0.064116 -0.061006   -0.039128  ... -0.062229  0.002498 -0.051497\n",
              "1  0.013460 -0.017836   -0.064281  ... -0.020367 -0.081247 -0.059452\n",
              "\n",
              "[2 rows x 502 columns]"
            ]
          },
          "metadata": {
            "tags": []
          },
          "execution_count": 21
        }
      ]
    },
    {
      "cell_type": "code",
      "metadata": {
        "colab": {
          "base_uri": "https://localhost:8080/",
          "height": 348
        },
        "id": "0Oa__Hjqi7wn",
        "outputId": "a0f137b1-45da-46e8-cbe4-209ebd49037e"
      },
      "source": [
        "sns.heatmap(df_comp)\n"
      ],
      "execution_count": null,
      "outputs": [
        {
          "output_type": "execute_result",
          "data": {
            "text/plain": [
              "<matplotlib.axes._subplots.AxesSubplot at 0x7fa46e5b6cc0>"
            ]
          },
          "metadata": {
            "tags": []
          },
          "execution_count": 22
        },
        {
          "output_type": "display_data",
          "data": {
            "image/png": "[encoded data removed]",
            "text/plain": [
              "<Figure size 432x288 with 2 Axes>"
            ]
          },
          "metadata": {
            "tags": []
          }
        }
      ]
    },
    {
      "cell_type": "markdown",
      "metadata": {
        "id": "N2HRhKCrjWNo"
      },
      "source": [
        "**Problem 3:\n",
        "Identify which all stocks are moving together and which all stocks are different from each other.**"
      ]
    },
    {
      "cell_type": "code",
      "metadata": {
        "id": "G3CcUrpdi70o"
      },
      "source": [
        "df['labels'] = labels\n"
      ],
      "execution_count": null,
      "outputs": []
    },
    {
      "cell_type": "code",
      "metadata": {
        "colab": {
          "base_uri": "https://localhost:8080/"
        },
        "id": "y5OeJRo9i75k",
        "outputId": "516e7e93-306a-46ff-83e8-d6a1625ab9a0"
      },
      "source": [
        "for i in df['labels'].unique().tolist():\n",
        "    count = df[df['labels'] == i].shape[0]\n",
        "    print('\\nFor lablel {} the number of similar stock performances is : {} '.format(i,count))"
      ],
      "execution_count": null,
      "outputs": [
        {
          "output_type": "stream",
          "text": [
            "\n",
            "For lablel 3 the number of similar stock performances is : 5872 \n",
            "\n",
            "For lablel 1 the number of similar stock performances is : 8627 \n",
            "\n",
            "For lablel 2 the number of similar stock performances is : 11164 \n",
            "\n",
            "For lablel 4 the number of similar stock performances is : 5865 \n",
            "\n",
            "For lablel 0 the number of similar stock performances is : 9738 \n"
          ],
          "name": "stdout"
        }
      ]
    },
    {
      "cell_type": "code",
      "metadata": {
        "colab": {
          "base_uri": "https://localhost:8080/"
        },
        "id": "O9sY0lJii79L",
        "outputId": "8294f3e5-001e-409a-aae2-e98dbb5d390e"
      },
      "source": [
        "from sklearn.cluster import SpectralClustering\n",
        "hc = SpectralClustering(n_clusters = 5, affinity = 'nearest_neighbors')\n",
        "hc.fit(X_transformed)"
      ],
      "execution_count": null,
      "outputs": [
        {
          "output_type": "stream",
          "text": [
            "/usr/local/lib/python3.6/dist-packages/sklearn/manifold/_spectral_embedding.py:236: UserWarning: Graph is not fully connected, spectral embedding may not work as expected.\n",
            "  warnings.warn(\"Graph is not fully connected, spectral embedding\"\n"
          ],
          "name": "stderr"
        },
        {
          "output_type": "execute_result",
          "data": {
            "text/plain": [
              "SpectralClustering(affinity='nearest_neighbors', assign_labels='kmeans',\n",
              "                   coef0=1, degree=3, eigen_solver=None, eigen_tol=0.0,\n",
              "                   gamma=1.0, kernel_params=None, n_clusters=5,\n",
              "                   n_components=None, n_init=10, n_jobs=None, n_neighbors=10,\n",
              "                   random_state=None)"
            ]
          },
          "metadata": {
            "tags": []
          },
          "execution_count": 25
        }
      ]
    },
    {
      "cell_type": "code",
      "metadata": {
        "colab": {
          "base_uri": "https://localhost:8080/"
        },
        "id": "6t0gvx69i8BU",
        "outputId": "d0f4af77-bc7a-44fc-aa2a-470b4c7b5792"
      },
      "source": [
        "hc.fit_predict(X_transformed)"
      ],
      "execution_count": null,
      "outputs": [
        {
          "output_type": "stream",
          "text": [
            "/usr/local/lib/python3.6/dist-packages/sklearn/manifold/_spectral_embedding.py:236: UserWarning: Graph is not fully connected, spectral embedding may not work as expected.\n",
            "  warnings.warn(\"Graph is not fully connected, spectral embedding\"\n"
          ],
          "name": "stderr"
        },
        {
          "output_type": "execute_result",
          "data": {
            "text/plain": [
              "array([0, 0, 0, ..., 3, 3, 3], dtype=int32)"
            ]
          },
          "metadata": {
            "tags": []
          },
          "execution_count": 26
        }
      ]
    },
    {
      "cell_type": "code",
      "metadata": {
        "id": "gWN0cCJVi7vC"
      },
      "source": [
        "y_labels = hc.labels_\n"
      ],
      "execution_count": null,
      "outputs": []
    },
    {
      "cell_type": "code",
      "metadata": {
        "colab": {
          "base_uri": "https://localhost:8080/"
        },
        "id": "Zr1Lo4nSi7oL",
        "outputId": "e70d879b-e469-453e-b326-7d1635e1ba77"
      },
      "source": [
        "len(y_labels),np.unique(y_labels)\n"
      ],
      "execution_count": null,
      "outputs": [
        {
          "output_type": "execute_result",
          "data": {
            "text/plain": [
              "(41266, array([0, 1, 2, 3, 4], dtype=int32))"
            ]
          },
          "metadata": {
            "tags": []
          },
          "execution_count": 32
        }
      ]
    },
    {
      "cell_type": "code",
      "metadata": {
        "colab": {
          "base_uri": "https://localhost:8080/",
          "height": 295
        },
        "id": "j78rYbOLjwYK",
        "outputId": "dcd35e82-f696-4413-fb81-926bf265b374"
      },
      "source": [
        "X = X_transformed\n",
        "plt.scatter(X[y_labels == 0, 0], X[y_labels == 0, 1], s = 100, c = 'red', label = 'Cluster 1')\n",
        "plt.scatter(X[y_labels == 1, 0], X[y_labels == 1, 1], s = 100, c = 'blue', label = 'Cluster 2')\n",
        "plt.scatter(X[y_labels == 2, 0], X[y_labels == 2, 1], s = 100, c = 'green', label = 'Cluster 3')\n",
        "plt.scatter(X[y_labels == 3, 0], X[y_labels == 3, 1], s = 100, c = 'cyan', label = 'Cluster 4')\n",
        "plt.scatter(X[y_labels == 4, 0], X[y_labels == 4, 1], s = 100, c = 'magenta', label = 'Cluster 5')\n",
        "plt.title('Clusters of customers')\n",
        "plt.xlabel('Annual Income (k$)')\n",
        "plt.ylabel('Spending Score (1-100)')\n",
        "plt.legend()\n",
        "plt.show()"
      ],
      "execution_count": null,
      "outputs": [
        {
          "output_type": "display_data",
          "data": {
            "image/png": "[encoded data removed]",
            "text/plain": [
              "<Figure size 432x288 with 1 Axes>"
            ]
          },
          "metadata": {
            "tags": []
          }
        }
      ]
    },
    {
      "cell_type": "code",
      "metadata": {
        "colab": {
          "base_uri": "https://localhost:8080/"
        },
        "id": "LyIUSVtWjwnK",
        "outputId": "c6de77a1-c4e1-473d-cf2f-4610a93b0e33"
      },
      "source": [
        "df2 = df.copy()\n",
        "df2['labels'] = y_labels\n",
        "for i in df2['labels'].unique().tolist():\n",
        "    count = df2[df2['labels'] == i].shape[0]\n",
        "    print('\\nFor lablel {} the number of similar stock performances is : {} '.format(i,count))"
      ],
      "execution_count": null,
      "outputs": [
        {
          "output_type": "stream",
          "text": [
            "\n",
            "For lablel 0 the number of similar stock performances is : 35029 \n",
            "\n",
            "For lablel 4 the number of similar stock performances is : 915 \n",
            "\n",
            "For lablel 2 the number of similar stock performances is : 2422 \n",
            "\n",
            "For lablel 1 the number of similar stock performances is : 2551 \n",
            "\n",
            "For lablel 3 the number of similar stock performances is : 349 \n"
          ],
          "name": "stdout"
        }
      ]
    },
    {
      "cell_type": "code",
      "metadata": {
        "id": "Lk16zSy2jwzB"
      },
      "source": [
        ""
      ],
      "execution_count": null,
      "outputs": []
    }
  ]
}